{
 "cells": [
  {
   "cell_type": "code",
   "execution_count": 2,
   "id": "c704f9f3-e159-47e6-aabe-16d075d32453",
   "metadata": {
    "tags": []
   },
   "outputs": [
    {
     "ename": "ImportError",
     "evalue": "cannot import name 'PanelData' from 'linearmodels.panel' (C:\\ProgramData\\anaconda3\\Lib\\site-packages\\linearmodels\\panel\\__init__.py)",
     "output_type": "error",
     "traceback": [
      "\u001b[1;31m---------------------------------------------------------------------------\u001b[0m",
      "\u001b[1;31mImportError\u001b[0m                               Traceback (most recent call last)",
      "Cell \u001b[1;32mIn[2], line 2\u001b[0m\n\u001b[0;32m      1\u001b[0m \u001b[38;5;28;01mfrom\u001b[39;00m \u001b[38;5;21;01mlinearmodels\u001b[39;00m \u001b[38;5;28;01mimport\u001b[39;00m PanelOLS\n\u001b[1;32m----> 2\u001b[0m \u001b[38;5;28;01mfrom\u001b[39;00m \u001b[38;5;21;01mlinearmodels\u001b[39;00m\u001b[38;5;21;01m.\u001b[39;00m\u001b[38;5;21;01mpanel\u001b[39;00m \u001b[38;5;28;01mimport\u001b[39;00m PanelData\n\u001b[0;32m      3\u001b[0m \u001b[38;5;28;01mimport\u001b[39;00m \u001b[38;5;21;01mpandas\u001b[39;00m \u001b[38;5;28;01mas\u001b[39;00m \u001b[38;5;21;01mpd\u001b[39;00m\n\u001b[0;32m      4\u001b[0m \u001b[38;5;28;01mimport\u001b[39;00m \u001b[38;5;21;01mnumpy\u001b[39;00m \u001b[38;5;28;01mas\u001b[39;00m \u001b[38;5;21;01mnp\u001b[39;00m\n",
      "\u001b[1;31mImportError\u001b[0m: cannot import name 'PanelData' from 'linearmodels.panel' (C:\\ProgramData\\anaconda3\\Lib\\site-packages\\linearmodels\\panel\\__init__.py)"
     ]
    }
   ],
   "source": [
    "from linearmodels import PanelOLS\n",
    "from linearmodels.panel import PanelData\n",
    "import pandas as pd\n",
    "import numpy as np\n",
    "\n",
    "# 生成一个新的示例数据集\n",
    "np.random.seed(0)  # 为了可重现性设置随机种子\n",
    "\n",
    "# 定义样本大小和分组\n",
    "n_entities = 50  # 实体数量\n",
    "n_periods = 2  # 时间段数量（例如，Before 和 After）\n",
    "n_samples = n_entities * n_periods  # 总样本量\n",
    "\n",
    "# 生成模拟数据\n",
    "entities = np.repeat(np.arange(n_entities), n_periods)\n",
    "time_periods = np.tile(np.array([0, 1]), n_entities)  # 0 代表 Before，1 代表 After\n",
    "treatment = np.random.choice([0, 1], size=n_entities, replace=True)  # 随机分配治疗组\n",
    "treatment_expanded = np.repeat(treatment, n_periods)\n",
    "\n",
    "# 假设处理效果增加2到结果变量\n",
    "outcome = np.random.normal(5, 1, size=n_samples) + treatment_expanded * time_periods * 2\n",
    "\n",
    "# 构建 DataFrame\n",
    "df_demo = pd.DataFrame({\n",
    "    'entity': entities,\n",
    "    'time': time_periods,\n",
    "    'treatment': treatment_expanded,\n",
    "    'outcome': outcome\n",
    "})\n",
    "\n",
    "df_demo.head()\n"
   ]
  },
  {
   "cell_type": "code",
   "execution_count": null,
   "id": "f1b9c407-0e24-42df-880b-78c4e2cd9737",
   "metadata": {},
   "outputs": [],
   "source": []
  }
 ],
 "metadata": {
  "kernelspec": {
   "display_name": "Python 3 (ipykernel)",
   "language": "python",
   "name": "python3"
  },
  "language_info": {
   "codemirror_mode": {
    "name": "ipython",
    "version": 3
   },
   "file_extension": ".py",
   "mimetype": "text/x-python",
   "name": "python",
   "nbconvert_exporter": "python",
   "pygments_lexer": "ipython3",
   "version": "3.11.5"
  }
 },
 "nbformat": 4,
 "nbformat_minor": 5
}
