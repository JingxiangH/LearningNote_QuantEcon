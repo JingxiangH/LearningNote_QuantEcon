{
 "cells": [
  {
   "cell_type": "code",
   "execution_count": 8,
   "id": "c704f9f3-e159-47e6-aabe-16d075d32453",
   "metadata": {
    "tags": []
   },
   "outputs": [
    {
     "ename": "TypeError",
     "evalue": "'module' object is not callable",
     "output_type": "error",
     "traceback": [
      "\u001b[1;31m---------------------------------------------------------------------------\u001b[0m",
      "\u001b[1;31mTypeError\u001b[0m                                 Traceback (most recent call last)",
      "Cell \u001b[1;32mIn[8], line 45\u001b[0m\n\u001b[0;32m     43\u001b[0m df[\u001b[38;5;124m'\u001b[39m\u001b[38;5;124mentity\u001b[39m\u001b[38;5;124m'\u001b[39m] \u001b[38;5;241m=\u001b[39m pd\u001b[38;5;241m.\u001b[39mCategorical(df[\u001b[38;5;124m'\u001b[39m\u001b[38;5;124mentity\u001b[39m\u001b[38;5;124m'\u001b[39m])\n\u001b[0;32m     44\u001b[0m df[\u001b[38;5;124m'\u001b[39m\u001b[38;5;124mtime\u001b[39m\u001b[38;5;124m'\u001b[39m] \u001b[38;5;241m=\u001b[39m pd\u001b[38;5;241m.\u001b[39mCategorical(df[\u001b[38;5;124m'\u001b[39m\u001b[38;5;124mtime\u001b[39m\u001b[38;5;124m'\u001b[39m])\n\u001b[1;32m---> 45\u001b[0m panel_data \u001b[38;5;241m=\u001b[39m LM\u001b[38;5;241m.\u001b[39mpanel(df\u001b[38;5;241m.\u001b[39mset_index([\u001b[38;5;124m'\u001b[39m\u001b[38;5;124mentity\u001b[39m\u001b[38;5;124m'\u001b[39m, \u001b[38;5;124m'\u001b[39m\u001b[38;5;124mtime\u001b[39m\u001b[38;5;124m'\u001b[39m]))\n\u001b[0;32m     47\u001b[0m \u001b[38;5;66;03m# 定义模型\u001b[39;00m\n\u001b[0;32m     48\u001b[0m \u001b[38;5;66;03m# 这里 'EntityEffects' 表示加入了实体（固定）效应\u001b[39;00m\n\u001b[0;32m     49\u001b[0m \u001b[38;5;66;03m# 'TimeEffects' 可以选择性加入，如果你想控制不随实体变化但随时间变化的效应\u001b[39;00m\n\u001b[0;32m     50\u001b[0m mod \u001b[38;5;241m=\u001b[39m PanelOLS\u001b[38;5;241m.\u001b[39mfrom_formula(\u001b[38;5;124m'\u001b[39m\u001b[38;5;124moutcome ~ treatment * time + EntityEffects\u001b[39m\u001b[38;5;124m'\u001b[39m, data\u001b[38;5;241m=\u001b[39mpanel_data)\n",
      "\u001b[1;31mTypeError\u001b[0m: 'module' object is not callable"
     ]
    }
   ],
   "source": [
    "from linearmodels import PanelOLS\n",
    "import linearmodels as LM\n",
    "#from linearmodels.panel import PanelData\n",
    "import pandas as pd\n",
    "import numpy as np\n",
    "\n",
    "# 生成一个新的示例数据集\n",
    "np.random.seed(0)  # 为了可重现性设置随机种子\n",
    "\n",
    "# 定义样本大小和分组\n",
    "n_entities = 50  # 实体数量\n",
    "n_periods = 2  # 时间段数量（例如，Before 和 After）\n",
    "n_samples = n_entities * n_periods  # 总样本量\n",
    "\n",
    "# 生成模拟数据\n",
    "entities = np.repeat(np.arange(n_entities), n_periods)\n",
    "time_periods = np.tile(np.array([0, 1]), n_entities)  # 0 代表 Before，1 代表 After\n",
    "treatment = np.random.choice([0, 1], size=n_entities, replace=True)  # 随机分配治疗组\n",
    "treatment_expanded = np.repeat(treatment, n_periods)\n",
    "\n",
    "# 假设处理效果增加2到结果变量\n",
    "outcome = np.random.normal(5, 1, size=n_samples) + treatment_expanded * time_periods * 2\n",
    "\n",
    "# 构建 DataFrame\n",
    "df = pd.DataFrame({\n",
    "    'entity': entities,\n",
    "    'time': time_periods,\n",
    "    'treatment': treatment_expanded,\n",
    "    'outcome': outcome\n",
    "})\n",
    "\n",
    "df.head()\n",
    "\n",
    "\n",
    "# 假设 df 是你的 DataFrame\n",
    "# 以下代码假设 df 已经正确设置，包含以下列：\n",
    "# 'entity' - 分组标识\n",
    "# 'time' - 时间标识，比如前后\n",
    "# 'treatment' - 是否接受处理的二元变量\n",
    "# 'outcome' - 结果变量\n",
    "\n",
    "# 准备面板数据\n",
    "df['entity'] = pd.Categorical(df['entity'])\n",
    "df['time'] = pd.Categorical(df['time'])\n",
    "panel_data = LM.panel(df.set_index(['entity', 'time']))\n",
    "\n",
    "# 定义模型\n",
    "# 这里 'EntityEffects' 表示加入了实体（固定）效应\n",
    "# 'TimeEffects' 可以选择性加入，如果你想控制不随实体变化但随时间变化的效应\n",
    "mod = PanelOLS.from_formula('outcome ~ treatment * time + EntityEffects', data=panel_data)\n",
    "\n",
    "# 拟合模型，使用群聚标准误\n",
    "# 'cluster_entity=True' 表示按照实体群聚标准误\n",
    "# 如果你有多个维度需要群聚（比如时间和实体），可以使用 cluster_time=True 或者提供一个 cluster_id\n",
    "res = mod.fit(cov_type='clustered', cluster_entity=True)\n",
    "\n",
    "# 输出结果\n",
    "print(res)"
   ]
  },
  {
   "cell_type": "code",
   "execution_count": null,
   "id": "f1b9c407-0e24-42df-880b-78c4e2cd9737",
   "metadata": {},
   "outputs": [],
   "source": []
  }
 ],
 "metadata": {
  "kernelspec": {
   "display_name": "Python 3 (ipykernel)",
   "language": "python",
   "name": "python3"
  },
  "language_info": {
   "codemirror_mode": {
    "name": "ipython",
    "version": 3
   },
   "file_extension": ".py",
   "mimetype": "text/x-python",
   "name": "python",
   "nbconvert_exporter": "python",
   "pygments_lexer": "ipython3",
   "version": "3.11.8"
  }
 },
 "nbformat": 4,
 "nbformat_minor": 5
}
