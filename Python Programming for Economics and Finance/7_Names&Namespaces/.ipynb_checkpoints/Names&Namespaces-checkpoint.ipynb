{
 "cells": [
  {
   "cell_type": "code",
   "execution_count": 1,
   "id": "e7f5796c-721c-41dc-b47c-7ef65a34a2c6",
   "metadata": {},
   "outputs": [
    {
     "name": "stdout",
     "output_type": "stream",
     "text": [
      "C:\\Users\\iamja\\Dropbox\\大三下\\PythonCourse\\Econometrics\\7_Names&Namespaces\n"
     ]
    }
   ],
   "source": [
    "import os\n",
    "os.chdir(r'C:\\Users\\iamja\\Dropbox\\大三下\\PythonCourse\\Econometrics\\7_Names&Namespaces')\n",
    "# r 代表转译字符串，规避斜杠问题\n",
    "print(os.getcwd())"
   ]
  },
  {
   "cell_type": "code",
   "execution_count": null,
   "id": "cae88ce8-5ee2-4ebb-9850-cb941796ff07",
   "metadata": {},
   "outputs": [],
   "source": []
  }
 ],
 "metadata": {
  "kernelspec": {
   "display_name": "Python 3 (ipykernel)",
   "language": "python",
   "name": "python3"
  },
  "language_info": {
   "codemirror_mode": {
    "name": "ipython",
    "version": 3
   },
   "file_extension": ".py",
   "mimetype": "text/x-python",
   "name": "python",
   "nbconvert_exporter": "python",
   "pygments_lexer": "ipython3",
   "version": "3.11.8"
  }
 },
 "nbformat": 4,
 "nbformat_minor": 5
}
