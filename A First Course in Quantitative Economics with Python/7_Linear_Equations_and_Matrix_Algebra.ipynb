{
 "cells": [
  {
   "cell_type": "markdown",
   "id": "18df4aca-db3f-4df2-ac85-a1096c60cc37",
   "metadata": {},
   "source": [
    "# 7. Linear Equations and Matrix Algebra"
   ]
  },
  {
   "cell_type": "code",
   "execution_count": 1,
   "id": "658f0a5c-65b9-48fb-bf6e-0af11d550d2b",
   "metadata": {},
   "outputs": [
    {
     "data": {
      "text/plain": [
       "'Intended working directory: Dropbox/大三下/PythonCourse/Econometrics/A First Course in Quantitative Economics with Python'"
      ]
     },
     "execution_count": 1,
     "metadata": {},
     "output_type": "execute_result"
    }
   ],
   "source": [
    "import os\n",
    "import platform\n",
    "\n",
    "# Paths for macOS and Windows\n",
    "paths = {\n",
    "    \"Darwin\": \"Dropbox/大三下/PythonCourse/Econometrics/A First Course in Quantitative Economics with Python\",\n",
    "    \"Windows\": \"C:\\\\Users\\\\iamja\\\\Dropbox\\\\大三下\\\\PythonCourse\\\\Econometrics\\\\A First Course in Quantitative Economics with Python\"\n",
    "}\n",
    "\n",
    "# Get current OS, set new path based on OS, or default if not macOS/Windows\n",
    "new_path = paths.get(platform.system(), os.getcwd())\n",
    "\n",
    "# Result without try-except block for simplicity\n",
    "result_simplified = f\"Intended working directory: {new_path}\"\n",
    "result_simplified"
   ]
  },
  {
   "cell_type": "code",
   "execution_count": 2,
   "id": "188e7e68-78c7-432f-9495-7bc5df6e242e",
   "metadata": {},
   "outputs": [],
   "source": [
    "import numpy as np\n",
    "import matplotlib.pyplot as plt"
   ]
  },
  {
   "cell_type": "code",
   "execution_count": 3,
   "id": "2168c648-0796-4b04-a017-dd2af722721e",
   "metadata": {},
   "outputs": [
    {
     "data": {
      "text/plain": [
       "array([3., 5., 7.])"
      ]
     },
     "execution_count": 3,
     "metadata": {},
     "output_type": "execute_result"
    }
   ],
   "source": [
    "x = np.ones(3)            # Vector of three ones\n",
    "y = np.array((2, 4, 6))   # Converts tuple (2, 4, 6) into a NumPy array\n",
    "x + y                     # Add (element-by-element)"
   ]
  },
  {
   "cell_type": "code",
   "execution_count": 4,
   "id": "22303f6d-a96f-4b7e-afeb-7e8a3ce09e74",
   "metadata": {},
   "outputs": [
    {
     "data": {
      "text/plain": [
       "array([4., 4., 4.])"
      ]
     },
     "execution_count": 4,
     "metadata": {},
     "output_type": "execute_result"
    }
   ],
   "source": [
    "4 * x                     # Scalar multiply"
   ]
  },
  {
   "cell_type": "code",
   "execution_count": 5,
   "id": "2e9a0ec5-27ad-4a41-800d-95c6c9226a46",
   "metadata": {},
   "outputs": [
    {
     "data": {
      "text/plain": [
       "12.0"
      ]
     },
     "execution_count": 5,
     "metadata": {},
     "output_type": "execute_result"
    }
   ],
   "source": [
    "np.sum(x*y)      # Inner product of x and y"
   ]
  },
  {
   "cell_type": "code",
   "execution_count": 6,
   "id": "f812decb-d9cb-443a-b166-507b24feb7c2",
   "metadata": {},
   "outputs": [
    {
     "data": {
      "text/plain": [
       "12.0"
      ]
     },
     "execution_count": 6,
     "metadata": {},
     "output_type": "execute_result"
    }
   ],
   "source": [
    "x @ y            # Another way to compute the inner product "
   ]
  },
  {
   "cell_type": "code",
   "execution_count": 8,
   "id": "8babc09e-3b06-4b73-940e-b3c7ad258784",
   "metadata": {},
   "outputs": [
    {
     "data": {
      "text/plain": [
       "1.7320508075688772"
      ]
     },
     "execution_count": 8,
     "metadata": {},
     "output_type": "execute_result"
    }
   ],
   "source": [
    "np.sqrt(np.sum(x**2))  # Norm of x, method one"
   ]
  },
  {
   "cell_type": "code",
   "execution_count": 7,
   "id": "0b02bf97-e217-4aad-8ac8-d32647fd9aab",
   "metadata": {},
   "outputs": [
    {
     "data": {
      "text/plain": [
       "1.7320508075688772"
      ]
     },
     "execution_count": 7,
     "metadata": {},
     "output_type": "execute_result"
    }
   ],
   "source": [
    "np.linalg.norm(x)      # Norm of x, method two"
   ]
  },
  {
   "cell_type": "code",
   "execution_count": 9,
   "id": "a199e2ca-2a16-4e60-b762-6e3eec0d771b",
   "metadata": {},
   "outputs": [
    {
     "name": "stdout",
     "output_type": "stream",
     "text": [
      "<class 'tuple'>\n",
      "<class 'numpy.ndarray'>\n",
      "(2, 2)\n"
     ]
    }
   ],
   "source": [
    "# Create a matrix\n",
    "A = ((1, 2),\n",
    "     (3, 4))\n",
    "print(type(A))\n",
    "A = np.array(A)\n",
    "print(type(A))\n",
    "print(A.shape)"
   ]
  },
  {
   "cell_type": "code",
   "execution_count": 10,
   "id": "bd8ab79f-3891-4b92-b2ed-a8027805faf5",
   "metadata": {},
   "outputs": [
    {
     "data": {
      "text/plain": [
       "array([[2., 0., 0.],\n",
       "       [0., 2., 0.],\n",
       "       [0., 0., 2.]])"
      ]
     },
     "execution_count": 10,
     "metadata": {},
     "output_type": "execute_result"
    }
   ],
   "source": [
    "A = np.identity(3)    # 3 x 3 identity matrix\n",
    "B = np.ones((3, 3))   # 3 x 3 matrix of ones\n",
    "2 * A"
   ]
  },
  {
   "cell_type": "code",
   "execution_count": 11,
   "id": "8bb3ebb9-e14e-4277-9334-8d42f567de11",
   "metadata": {},
   "outputs": [
    {
     "data": {
      "text/plain": [
       "array([[2., 1., 1.],\n",
       "       [1., 2., 1.],\n",
       "       [1., 1., 2.]])"
      ]
     },
     "execution_count": 11,
     "metadata": {},
     "output_type": "execute_result"
    }
   ],
   "source": [
    "A + B"
   ]
  },
  {
   "cell_type": "markdown",
   "id": "134aa8b8-ceac-49e8-b81c-85d361277c29",
   "metadata": {},
   "source": [
    "In particular, ```A @ B``` is matrix multiplication, whereas ```A * B``` is element-by-element multiplication."
   ]
  },
  {
   "cell_type": "code",
   "execution_count": 29,
   "id": "7f941e5e-6ba2-45e7-acf3-11d68d7c56ea",
   "metadata": {},
   "outputs": [
    {
     "name": "stdout",
     "output_type": "stream",
     "text": [
      "The solution is given through p_0=4.9625, p_1=7.0625, p_2=7.6750\n"
     ]
    }
   ],
   "source": [
    "# Coefficients of the equations in matrix form for the demand and supply\n",
    "A = np.array([[15, -5, -5], \n",
    "              [-5, 10, -10], \n",
    "              [-5, -5, 5]])\n",
    "\n",
    "B = np.array([90, 60, 50])\n",
    "\n",
    "C = np.array([[20, 0, 0], \n",
    "              [0, 15, 0], \n",
    "              [0, 0, 10]])\n",
    "\n",
    "D = np.array([-10, -15, -5])\n",
    "\n",
    "#-ap + b = q_d\n",
    "#cp + d = q_s\n",
    "#-ap + b = cp + d\n",
    "\n",
    "# Combining the coefficients since qd = qs\n",
    "# We end up with Ax = B and Cx = D; so we combine them as (A - C)x = B - D\n",
    "A_combined = A + C\n",
    "B_combined = B - D\n",
    "\n",
    "# Solve the linear equations using np.linalg.solve\n",
    "equilibrium_prices_solve = np.linalg.solve(A_combined, B_combined)\n",
    "\n",
    "# Solve the linear equations using np.linalg.inv and matrix multiplication\n",
    "A_inv = np.linalg.inv(A_combined)\n",
    "equilibrium_prices_inv = A_inv.dot(B_combined)\n",
    "\n",
    "solution_str = \", \".join([f\"p_{i}={price:.4f}\" for i, price in enumerate(equilibrium_prices_solve)])\n",
    "print(f\"The solution is given through {solution_str}\")"
   ]
  },
  {
   "cell_type": "code",
   "execution_count": 66,
   "id": "114da3c6-cd6f-4c01-a488-ab10b12d48b1",
   "metadata": {},
   "outputs": [
    {
     "name": "stdout",
     "output_type": "stream",
     "text": [
      "[11.46428571  1.17857143]\n",
      "x̂ = [11.46428571  1.17857143]\n",
      "‖Ax̂ - b‖² = 0.07142857142857066\n"
     ]
    },
    {
     "data": {
      "image/png": "[encoded data removed]",
      "text/plain": [
       "<Figure size 640x480 with 1 Axes>"
      ]
     },
     "metadata": {},
     "output_type": "display_data"
    }
   ],
   "source": [
    "import numpy as np\n",
    "from numpy.linalg import inv\n",
    "\n",
    "p = np.array([[-9,-7,-3]])\n",
    "q = np.array([1,3,8])\n",
    "ones = np.array([np.ones(3)])\n",
    "\n",
    "X = np.transpose(np.concatenate((ones , p),axis=0))\n",
    "X_T = np.transpose(X)\n",
    "\n",
    "β = inv(X_T @ X)@X_T@q\n",
    "print(β)\n",
    "\n",
    "# Using numpy.linalg.lstsq\n",
    "x, res, _, _ = np.linalg.lstsq(X, q, rcond=None)\n",
    "print(f\"x\\u0302 = {x}\")\n",
    "print(f\"\\u2016Ax\\u0302 - b\\u2016\\u00B2 = {res[0]}\")\n",
    "\n",
    "fig, ax = plt.subplots()\n",
    "p = np.array((1, 3, 8))\n",
    "q = np.array((9, 7, 3))\n",
    "\n",
    "a, b = x\n",
    "\n",
    "ax.plot(q, p, 'o', label='observations', markersize=5)\n",
    "ax.plot(q, a - b*q, 'r', label='Fitted line')\n",
    "plt.xlabel('quantity demanded')\n",
    "plt.ylabel('price')\n",
    "plt.legend()\n",
    "plt.show()"
   ]
  },
  {
   "cell_type": "code",
   "execution_count": null,
   "id": "3f879cec-fac2-4d6b-a96a-bdef08da02ff",
   "metadata": {},
   "outputs": [],
   "source": []
  }
 ],
 "metadata": {
  "kernelspec": {
   "display_name": "Python 3 (ipykernel)",
   "language": "python",
   "name": "python3"
  },
  "language_info": {
   "codemirror_mode": {
    "name": "ipython",
    "version": 3
   },
   "file_extension": ".py",
   "mimetype": "text/x-python",
   "name": "python",
   "nbconvert_exporter": "python",
   "pygments_lexer": "ipython3",
   "version": "3.11.8"
  }
 },
 "nbformat": 4,
 "nbformat_minor": 5
}
