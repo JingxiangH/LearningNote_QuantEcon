{
 "cells": [
  {
   "cell_type": "markdown",
   "id": "103eaca4-f34b-4bb4-a981-e2491a6af0f8",
   "metadata": {},
   "source": [
    "# Python Essentials"
   ]
  },
  {
   "cell_type": "code",
   "execution_count": 6,
   "id": "0311a7a7-5db3-4e6f-ad22-52654232e160",
   "metadata": {},
   "outputs": [
    {
     "name": "stdout",
     "output_type": "stream",
     "text": [
      "C:\\Users\\iamja\\Dropbox\\大三下\\PythonCourse\\Econometrics\\5_Python_Essentials\n"
     ]
    }
   ],
   "source": [
    "import os\n",
    "os.chdir(r'C:\\Users\\iamja\\Dropbox\\大三下\\PythonCourse\\Econometrics\\5_Python_Essentials')\n",
    "# r 代表转译字符串，规避斜杠问题\n",
    "print(os.getcwd())"
   ]
  },
  {
   "cell_type": "code",
   "execution_count": 3,
   "id": "b795067c-43e3-49f6-b12c-4dfeaad187ba",
   "metadata": {},
   "outputs": [
    {
     "name": "stdout",
     "output_type": "stream",
     "text": [
      "<class 'dict'>\n",
      "33\n"
     ]
    }
   ],
   "source": [
    "# Dictionary\n",
    "d = {'name': 'Frodo', 'age': '33'}\n",
    "print(type(d))\n",
    "print(d['age'])"
   ]
  },
  {
   "cell_type": "code",
   "execution_count": 4,
   "id": "0c4e5545-f88b-4d99-9114-8e50687a6ccc",
   "metadata": {},
   "outputs": [
    {
     "data": {
      "text/plain": [
       "{'b'}"
      ]
     },
     "execution_count": 4,
     "metadata": {},
     "output_type": "execute_result"
    }
   ],
   "source": [
    "# Set\n",
    "s1 = {'a', 'b'}\n",
    "s2 = {'b', 'c'}\n",
    "s1.intersection(s2)"
   ]
  },
  {
   "cell_type": "markdown",
   "id": "577c7c5a-eadf-4aee-8533-8bc5bf0f04c9",
   "metadata": {},
   "source": [
    "## Input and Output"
   ]
  },
  {
   "cell_type": "code",
   "execution_count": 5,
   "id": "597325e0-1e74-49a3-a267-466ce7adfb23",
   "metadata": {},
   "outputs": [],
   "source": [
    "f = open('newfile.txt', 'w')   # Open 'newfile.txt' for writing\n",
    "f.write('Testing\\n')           # Here '\\n' means new line\n",
    "f.write('Testing again')\n",
    "f.close()"
   ]
  },
  {
   "cell_type": "code",
   "execution_count": 7,
   "id": "b271625a-c025-4dd7-82d3-4ea2406c789e",
   "metadata": {},
   "outputs": [
    {
     "name": "stdout",
     "output_type": "stream",
     "text": [
      "Testing\n",
      "Testing again\n"
     ]
    }
   ],
   "source": [
    "f = open('newfile.txt', 'r')\n",
    "out = f.read()\n",
    "print(out)"
   ]
  },
  {
   "cell_type": "code",
   "execution_count": 8,
   "id": "e33ca5b4-aef0-46b4-8d38-b2df35b91910",
   "metadata": {},
   "outputs": [],
   "source": [
    "with open('newfile.txt', 'w') as f:  \n",
    "    f.write('Testing\\n')         \n",
    "    f.write('Testing again')"
   ]
  },
  {
   "cell_type": "code",
   "execution_count": 9,
   "id": "0f43b11c-de42-4688-92f2-92099b8113c9",
   "metadata": {},
   "outputs": [
    {
     "name": "stdout",
     "output_type": "stream",
     "text": [
      "Testing\n",
      "Testing again\n"
     ]
    }
   ],
   "source": [
    "with open('newfile.txt', 'r') as fo:\n",
    "    out = fo.read()\n",
    "    print(out)"
   ]
  },
  {
   "cell_type": "code",
   "execution_count": 1,
   "id": "be4162f8-f58c-44de-97ed-7f844d5b7315",
   "metadata": {},
   "outputs": [
    {
     "name": "stdout",
     "output_type": "stream",
     "text": [
      "Line 0: Testing\n",
      " \n",
      "Line 1: Testing again \n",
      "\n"
     ]
    }
   ],
   "source": [
    "with open(\"newfile.txt\", \"r\") as f:\n",
    "    file = f.readlines()\n",
    "    with open(\"output.txt\", \"w\") as fo:\n",
    "        for i, line in enumerate(file):\n",
    "            fo.write(f'Line {i}: {line} \\n')\n",
    "\n",
    "with open('output.txt', 'r') as fo:\n",
    "    print(fo.read())"
   ]
  },
  {
   "cell_type": "code",
   "execution_count": 2,
   "id": "5ebbf761-112a-4f0b-889f-85e66dd04e29",
   "metadata": {},
   "outputs": [
    {
     "name": "stdout",
     "output_type": "stream",
     "text": [
      "Line 0: Testing\n",
      " \n",
      "Line 1: Testing again \n",
      "\n"
     ]
    }
   ],
   "source": [
    "with open(\"newfile.txt\", \"r\") as f, open(\"output2.txt\", \"w\") as fo:\n",
    "        for i, line in enumerate(f):\n",
    "            fo.write(f'Line {i}: {line} \\n')\n",
    "\n",
    "with open('output2.txt', 'r') as fo:\n",
    "    print(fo.read())"
   ]
  },
  {
   "cell_type": "code",
   "execution_count": 3,
   "id": "74a00bcf-d097-4104-9457-5733fe063f70",
   "metadata": {},
   "outputs": [
    {
     "name": "stdout",
     "output_type": "stream",
     "text": [
      "Line 0: Testing\n",
      " \n",
      "Line 1: Testing again \n",
      "\n",
      "This is the end of the file\n"
     ]
    }
   ],
   "source": [
    "with open('output2.txt', 'a') as fo:\n",
    "    fo.write('\\nThis is the end of the file')\n",
    "with open('output2.txt', 'r') as fo:\n",
    "    print(fo.read())"
   ]
  },
  {
   "cell_type": "markdown",
   "id": "9fc5e015-28a3-4661-ba0e-3abe69e991f8",
   "metadata": {},
   "source": [
    "## Iterating"
   ]
  },
  {
   "cell_type": "code",
   "execution_count": 9,
   "id": "9a5afa59-6072-4cc2-bbb8-92420c179b4e",
   "metadata": {},
   "outputs": [
    {
     "name": "stdout",
     "output_type": "stream",
     "text": [
      "Overwriting us_cities.txt\n"
     ]
    }
   ],
   "source": [
    "%%writefile us_cities.txt\n",
    "new york: 8244910\n",
    "los angeles: 3819702\n",
    "chicago: 2707120\n",
    "houston: 2145146\n",
    "philadelphia: 1536471\n",
    "phoenix: 1469471\n",
    "san antonio: 1359758\n",
    "san diego: 1326179\n",
    "dallas: 1223229\n",
    "\n",
    "Overwriting us_cities.txt"
   ]
  },
  {
   "cell_type": "code",
   "execution_count": 11,
   "id": "0fb32f90-5fdf-46bb-812a-85f5b288abd2",
   "metadata": {},
   "outputs": [
    {
     "name": "stdout",
     "output_type": "stream",
     "text": [
      "New York       8,244,910\n",
      "Los Angeles    3,819,702\n",
      "Chicago        2,707,120\n",
      "Houston        2,145,146\n",
      "Philadelphia   1,536,471\n",
      "Phoenix        1,469,471\n",
      "San Antonio    1,359,758\n",
      "San Diego      1,326,179\n",
      "Dallas         1,223,229\n"
     ]
    }
   ],
   "source": [
    "data_file = open('us_cities.txt', 'r')\n",
    "for line in data_file:\n",
    "    city, population = line.split(':')         # Tuple unpacking\n",
    "    city = city.title()                        # Capitalize city names\n",
    "    population = f'{int(population):,}'        # Add commas to numbers\n",
    "    print(city.ljust(15) + population)\n",
    "data_file.close()"
   ]
  },
  {
   "cell_type": "code",
   "execution_count": 12,
   "id": "5b62f857-ee51-447c-b801-3acaccd801a6",
   "metadata": {},
   "outputs": [
    {
     "name": "stdout",
     "output_type": "stream",
     "text": [
      "1\n",
      "4\n",
      "9\n"
     ]
    }
   ],
   "source": [
    "x_values = [1, 2, 3]  # Some iterable x\n",
    "for x in x_values:\n",
    "    print(x * x)"
   ]
  },
  {
   "cell_type": "code",
   "execution_count": 13,
   "id": "5d49509c-c49d-43fb-b524-cdd552e5613a",
   "metadata": {},
   "outputs": [
    {
     "name": "stdout",
     "output_type": "stream",
     "text": [
      "1\n",
      "4\n",
      "9\n"
     ]
    }
   ],
   "source": [
    "for i in range(len(x_values)):\n",
    "    print(x_values[i] * x_values[i])"
   ]
  },
  {
   "cell_type": "code",
   "execution_count": 14,
   "id": "0cbc8d7c-a440-4e6c-bde2-6e596f05633a",
   "metadata": {},
   "outputs": [
    {
     "name": "stdout",
     "output_type": "stream",
     "text": [
      "The capital of Japan is Tokyo\n",
      "The capital of Korea is Seoul\n",
      "The capital of China is Beijing\n"
     ]
    }
   ],
   "source": [
    "countries = ('Japan', 'Korea', 'China')\n",
    "cities = ('Tokyo', 'Seoul', 'Beijing')\n",
    "for country, city in zip(countries, cities):\n",
    "    print(f'The capital of {country} is {city}')"
   ]
  },
  {
   "cell_type": "code",
   "execution_count": 15,
   "id": "caef926f-9067-4fa8-8b88-8d664bad0d09",
   "metadata": {},
   "outputs": [
    {
     "data": {
      "text/plain": [
       "{'Tom': 'E', 'John': 'F'}"
      ]
     },
     "execution_count": 15,
     "metadata": {},
     "output_type": "execute_result"
    }
   ],
   "source": [
    "names = ['Tom', 'John']\n",
    "marks = ['E', 'F']\n",
    "dict(zip(names, marks))"
   ]
  },
  {
   "cell_type": "code",
   "execution_count": 16,
   "id": "c7652497-bc11-40b3-bdcd-4857e2e74bbd",
   "metadata": {},
   "outputs": [
    {
     "name": "stdout",
     "output_type": "stream",
     "text": [
      "letter_list[0] = 'a'\n",
      "letter_list[1] = 'b'\n",
      "letter_list[2] = 'c'\n"
     ]
    }
   ],
   "source": [
    "letter_list = ['a', 'b', 'c']\n",
    "for index, letter in enumerate(letter_list):\n",
    "    print(f\"letter_list[{index}] = '{letter}'\")"
   ]
  },
  {
   "cell_type": "markdown",
   "id": "16b3979c-aed8-4e17-9179-962e416d27f2",
   "metadata": {},
   "source": [
    "### Docstrings"
   ]
  },
  {
   "cell_type": "code",
   "execution_count": 17,
   "id": "892a4e78-35bf-46c0-8bfa-d35c9abc0f0a",
   "metadata": {},
   "outputs": [
    {
     "data": {
      "text/plain": [
       "\u001b[1;31mSignature:\u001b[0m \u001b[0mf\u001b[0m\u001b[1;33m(\u001b[0m\u001b[0mx\u001b[0m\u001b[1;33m)\u001b[0m\u001b[1;33m\u001b[0m\u001b[1;33m\u001b[0m\u001b[0m\n",
       "\u001b[1;31mDocstring:\u001b[0m This function squares its argument\n",
       "\u001b[1;31mFile:\u001b[0m      c:\\users\\iamja\\appdata\\local\\temp\\ipykernel_21992\\167408763.py\n",
       "\u001b[1;31mType:\u001b[0m      function"
      ]
     },
     "metadata": {},
     "output_type": "display_data"
    }
   ],
   "source": [
    "def f(x):\n",
    "    \"\"\"\n",
    "    This function squares its argument\n",
    "    \"\"\"\n",
    "    return x**2\n",
    "\n",
    "f?"
   ]
  },
  {
   "cell_type": "code",
   "execution_count": 18,
   "id": "59fccfac-e99f-4518-b439-ece134e4ec00",
   "metadata": {},
   "outputs": [
    {
     "data": {
      "text/plain": [
       "\u001b[1;31mSignature:\u001b[0m \u001b[0mf\u001b[0m\u001b[1;33m(\u001b[0m\u001b[0mx\u001b[0m\u001b[1;33m)\u001b[0m\u001b[1;33m\u001b[0m\u001b[1;33m\u001b[0m\u001b[0m\n",
       "\u001b[1;31mSource:\u001b[0m   \n",
       "\u001b[1;32mdef\u001b[0m \u001b[0mf\u001b[0m\u001b[1;33m(\u001b[0m\u001b[0mx\u001b[0m\u001b[1;33m)\u001b[0m\u001b[1;33m:\u001b[0m\u001b[1;33m\n",
       "\u001b[0m    \u001b[1;34m\"\"\"\n",
       "    This function squares its argument\n",
       "    \"\"\"\u001b[0m\u001b[1;33m\n",
       "\u001b[0m    \u001b[1;32mreturn\u001b[0m \u001b[0mx\u001b[0m\u001b[1;33m**\u001b[0m\u001b[1;36m2\u001b[0m\u001b[1;33m\u001b[0m\u001b[1;33m\u001b[0m\u001b[0m\n",
       "\u001b[1;31mFile:\u001b[0m      c:\\users\\iamja\\appdata\\local\\temp\\ipykernel_21992\\167408763.py\n",
       "\u001b[1;31mType:\u001b[0m      function"
      ]
     },
     "metadata": {},
     "output_type": "display_data"
    }
   ],
   "source": [
    "f??"
   ]
  },
  {
   "cell_type": "markdown",
   "id": "cad74c4d-1976-4ae3-aa31-1a6a0dd80051",
   "metadata": {},
   "source": [
    "### Ex 5.1"
   ]
  },
  {
   "cell_type": "code",
   "execution_count": 31,
   "id": "bdd0e852-cc89-4f44-aa3e-646367fdd063",
   "metadata": {},
   "outputs": [
    {
     "name": "stdout",
     "output_type": "stream",
     "text": [
      "[10  3  9] [5 3 7]\n",
      "122\n"
     ]
    },
    {
     "data": {
      "text/plain": [
       "122"
      ]
     },
     "execution_count": 31,
     "metadata": {},
     "output_type": "execute_result"
    }
   ],
   "source": [
    "import numpy as np\n",
    "s = 3\n",
    "ans = 0\n",
    "x_vals, y_vals = np.random.randint(1,11,size=s), np.random.randint(1,11,size=s)\n",
    "print(x_vals, y_vals)\n",
    "for x,y in zip(x_vals,y_vals):\n",
    "    ans = ans + x * y\n",
    "print(ans)\n",
    "\n",
    "### 答案的写法\n",
    "sum([x * y for x, y in zip(x_vals, y_vals)])"
   ]
  },
  {
   "cell_type": "code",
   "execution_count": 34,
   "id": "47f8ef31-f2b7-4f13-acb5-dc4e645da116",
   "metadata": {},
   "outputs": [
    {
     "data": {
      "text/plain": [
       "50"
      ]
     },
     "execution_count": 34,
     "metadata": {},
     "output_type": "execute_result"
    }
   ],
   "source": [
    "len([i for i in range(0,100) if i%2 == 0])\n",
    "sum([x % 2 == 0 for x in range(100)])\n",
    "sum([1 for x in range(100) if x % 2 == 0])"
   ]
  },
  {
   "cell_type": "code",
   "execution_count": 41,
   "id": "9ac573f5-0d54-4d2d-8d6a-a7318a86bdc0",
   "metadata": {},
   "outputs": [
    {
     "name": "stdout",
     "output_type": "stream",
     "text": [
      "2\n"
     ]
    },
    {
     "data": {
      "text/plain": [
       "2"
      ]
     },
     "execution_count": 41,
     "metadata": {},
     "output_type": "execute_result"
    }
   ],
   "source": [
    "pairs = ((2, 5), (4, 2), (9, 8), (12, 10))\n",
    "count = 0\n",
    "for pair in pairs:\n",
    "    if pair[0]%2 == 0 and pair[1]%2 ==0:\n",
    "        count = count + 1\n",
    "print(count)\n",
    "\n",
    "# 答案的写法\n",
    "sum([x % 2 == 0 and y % 2 == 0 for x, y in pairs])"
   ]
  },
  {
   "cell_type": "markdown",
   "id": "dca896c1-0b6d-4cda-97fb-cfc089b6242f",
   "metadata": {},
   "source": [
    "### Ex 5.2"
   ]
  },
  {
   "cell_type": "code",
   "execution_count": 48,
   "id": "f87fffb2-3941-4a9a-9279-4b5860550b14",
   "metadata": {},
   "outputs": [
    {
     "data": {
      "text/plain": [
       "10"
      ]
     },
     "execution_count": 48,
     "metadata": {},
     "output_type": "execute_result"
    }
   ],
   "source": [
    "def p(x,coeff):\n",
    "    ans = 0\n",
    "    for i in range(len(coeff)):\n",
    "        ans = ans + coeff[i]* (x**i)\n",
    "    return ans\n",
    "    sum()\n",
    "p(2,(2,4))"
   ]
  },
  {
   "cell_type": "code",
   "execution_count": 47,
   "id": "4b94486c-c9e3-4502-84df-1821c644b3dc",
   "metadata": {},
   "outputs": [
    {
     "data": {
      "text/plain": [
       "10"
      ]
     },
     "execution_count": 47,
     "metadata": {},
     "output_type": "execute_result"
    }
   ],
   "source": [
    "# 答案的写法\n",
    "def p(x, coeff):\n",
    "    return sum(a * x**i for i, a in enumerate(coeff))\n",
    "p(2,(2,4))"
   ]
  },
  {
   "cell_type": "markdown",
   "id": "6edd9628-ba55-4cfc-98fe-3cb798a40e59",
   "metadata": {},
   "source": [
    "### Ex 5.3"
   ]
  },
  {
   "cell_type": "code",
   "execution_count": 53,
   "id": "f605706d-667f-4f60-9b6c-214865c733dd",
   "metadata": {},
   "outputs": [
    {
     "data": {
      "text/plain": [
       "4"
      ]
     },
     "execution_count": 53,
     "metadata": {},
     "output_type": "execute_result"
    }
   ],
   "source": [
    "def f(string):\n",
    "    return sum([1 for i in string if i.isupper()])\n",
    "\n",
    "f('AABBc')"
   ]
  },
  {
   "cell_type": "markdown",
   "id": "c95c5a0e-9d7a-44ca-b21b-c21069c8bfa8",
   "metadata": {},
   "source": [
    "### Ex 5.4"
   ]
  },
  {
   "cell_type": "code",
   "execution_count": 57,
   "id": "ae05d48d-7486-4c15-b4a2-ea92a06a8bc3",
   "metadata": {},
   "outputs": [
    {
     "name": "stdout",
     "output_type": "stream",
     "text": [
      "True\n",
      "False\n",
      "True\n",
      "False\n"
     ]
    }
   ],
   "source": [
    "def f(seq_a, seq_b):\n",
    "  return all([i in seq_b for i in seq_a])\n",
    "\n",
    "# == test == #\n",
    "print(f(\"ab\", \"cadb\"))\n",
    "print(f(\"ab\", \"cjdb\"))\n",
    "print(f([1, 2], [1, 2, 3]))\n",
    "print(f([1, 2, 3], [1, 2]))\n",
    "# 利用all判断bool型变量"
   ]
  },
  {
   "cell_type": "markdown",
   "id": "241b6142-6c31-46e5-902e-859909e318ef",
   "metadata": {},
   "source": [
    "### Ex 5.5"
   ]
  },
  {
   "cell_type": "code",
   "execution_count": 60,
   "id": "bd23a89f-a9fa-4b9e-99aa-3a6323df8ec3",
   "metadata": {},
   "outputs": [
    {
     "data": {
      "text/plain": [
       "2.253086419753086"
      ]
     },
     "execution_count": 60,
     "metadata": {},
     "output_type": "execute_result"
    }
   ],
   "source": [
    "def linapprox(f, a, b, n, x):\n",
    "    \"\"\"\n",
    "    Evaluates the piecewise linear interpolant of f at x on the interval\n",
    "    [a, b], with n evenly spaced grid points.\n",
    "\n",
    "    Parameters\n",
    "    ==========\n",
    "        f : function\n",
    "            The function to approximate\n",
    "\n",
    "        x, a, b : scalars (floats or integers)\n",
    "            Evaluation point and endpoints, with a <= x <= b\n",
    "\n",
    "        n : integer\n",
    "            Number of grid points\n",
    "\n",
    "    Returns\n",
    "    =======\n",
    "        A float. The interpolant evaluated at x\n",
    "\n",
    "    \"\"\"\n",
    "    length_of_interval = b - a\n",
    "    num_subintervals = n - 1\n",
    "    step = length_of_interval / num_subintervals\n",
    "\n",
    "    # === find first grid point larger than x === #\n",
    "    point = a\n",
    "    while point <= x:\n",
    "        point += step\n",
    "\n",
    "    # === x must lie between the gridpoints (point - step) and point === #\n",
    "    u, v = point - step, point\n",
    "\n",
    "    return f(u) + (x - u) * (f(v) - f(u)) / (v - u)\n",
    "\n",
    "def g(x):\n",
    "    return x**2\n",
    "\n",
    "linapprox(g,1,2,10,1.5)"
   ]
  },
  {
   "cell_type": "code",
   "execution_count": null,
   "id": "7b92b225-4d9c-4d3e-b71b-42962a091b21",
   "metadata": {},
   "outputs": [],
   "source": []
  }
 ],
 "metadata": {
  "kernelspec": {
   "display_name": "Python 3 (ipykernel)",
   "language": "python",
   "name": "python3"
  },
  "language_info": {
   "codemirror_mode": {
    "name": "ipython",
    "version": 3
   },
   "file_extension": ".py",
   "mimetype": "text/x-python",
   "name": "python",
   "nbconvert_exporter": "python",
   "pygments_lexer": "ipython3",
   "version": "3.11.8"
  }
 },
 "nbformat": 4,
 "nbformat_minor": 5
}
